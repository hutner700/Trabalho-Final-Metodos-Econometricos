{
 "cells": [
  {
   "cell_type": "code",
   "execution_count": 1,
   "metadata": {
    "collapsed": true
   },
   "outputs": [],
   "source": [
    "import pandas as pd"
   ]
  },
  {
   "cell_type": "code",
   "execution_count": null,
   "outputs": [],
   "source": [],
   "metadata": {
    "collapsed": false
   }
  },
  {
   "cell_type": "code",
   "execution_count": 44,
   "outputs": [],
   "source": [
    "dataframes = pd.read_html(\"Dados/brutos/Ipeadata.html\",decimal=',')"
   ],
   "metadata": {
    "collapsed": false
   }
  },
  {
   "cell_type": "code",
   "execution_count": 45,
   "outputs": [],
   "source": [
    "data = dataframes[1]"
   ],
   "metadata": {
    "collapsed": false
   }
  },
  {
   "cell_type": "code",
   "execution_count": 46,
   "outputs": [],
   "source": [
    "data = data[data.index > 118]"
   ],
   "metadata": {
    "collapsed": false
   }
  },
  {
   "cell_type": "code",
   "execution_count": 43,
   "outputs": [],
   "source": [
    "data[[0,2]].to_csv(\"Dados/brutos/IGPM.csv\",sep=';',decimal=\",\",index=False)"
   ],
   "metadata": {
    "collapsed": false
   }
  },
  {
   "cell_type": "code",
   "execution_count": 47,
   "outputs": [
    {
     "data": {
      "text/plain": "           0           2\n119  1989.06   30862E-05\n120  1989.07   41943E-05\n121  1989.08       00001\n122  1989.09       00001\n123  1989.10       00001\n..       ...         ...\n515  2022.06  1.190,8820\n516  2022.07  1.193,3370\n517  2022.08  1.185,0040\n518  2022.09  1.173,7930\n519  2022.10  1.162,3910\n\n[401 rows x 2 columns]",
      "text/html": "<div>\n<style scoped>\n    .dataframe tbody tr th:only-of-type {\n        vertical-align: middle;\n    }\n\n    .dataframe tbody tr th {\n        vertical-align: top;\n    }\n\n    .dataframe thead th {\n        text-align: right;\n    }\n</style>\n<table border=\"1\" class=\"dataframe\">\n  <thead>\n    <tr style=\"text-align: right;\">\n      <th></th>\n      <th>0</th>\n      <th>2</th>\n    </tr>\n  </thead>\n  <tbody>\n    <tr>\n      <th>119</th>\n      <td>1989.06</td>\n      <td>30862E-05</td>\n    </tr>\n    <tr>\n      <th>120</th>\n      <td>1989.07</td>\n      <td>41943E-05</td>\n    </tr>\n    <tr>\n      <th>121</th>\n      <td>1989.08</td>\n      <td>00001</td>\n    </tr>\n    <tr>\n      <th>122</th>\n      <td>1989.09</td>\n      <td>00001</td>\n    </tr>\n    <tr>\n      <th>123</th>\n      <td>1989.10</td>\n      <td>00001</td>\n    </tr>\n    <tr>\n      <th>...</th>\n      <td>...</td>\n      <td>...</td>\n    </tr>\n    <tr>\n      <th>515</th>\n      <td>2022.06</td>\n      <td>1.190,8820</td>\n    </tr>\n    <tr>\n      <th>516</th>\n      <td>2022.07</td>\n      <td>1.193,3370</td>\n    </tr>\n    <tr>\n      <th>517</th>\n      <td>2022.08</td>\n      <td>1.185,0040</td>\n    </tr>\n    <tr>\n      <th>518</th>\n      <td>2022.09</td>\n      <td>1.173,7930</td>\n    </tr>\n    <tr>\n      <th>519</th>\n      <td>2022.10</td>\n      <td>1.162,3910</td>\n    </tr>\n  </tbody>\n</table>\n<p>401 rows × 2 columns</p>\n</div>"
     },
     "execution_count": 47,
     "metadata": {},
     "output_type": "execute_result"
    }
   ],
   "source": [
    "data[[0,2]]"
   ],
   "metadata": {
    "collapsed": false
   }
  },
  {
   "cell_type": "markdown",
   "source": [],
   "metadata": {
    "collapsed": false
   }
  }
 ],
 "metadata": {
  "kernelspec": {
   "display_name": "Python 3",
   "language": "python",
   "name": "python3"
  },
  "language_info": {
   "codemirror_mode": {
    "name": "ipython",
    "version": 2
   },
   "file_extension": ".py",
   "mimetype": "text/x-python",
   "name": "python",
   "nbconvert_exporter": "python",
   "pygments_lexer": "ipython2",
   "version": "2.7.6"
  }
 },
 "nbformat": 4,
 "nbformat_minor": 0
}
